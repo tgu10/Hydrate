{
 "cells": [
  {
   "cell_type": "code",
   "execution_count": null,
   "metadata": {},
   "outputs": [],
   "source": [
    "from TwitterAPI import TwitterAPI, TwitterError\n",
    "import requests\n",
    "import pandas as pd\n",
    "import simplejson\n",
    "import time"
   ]
  },
  {
   "cell_type": "code",
   "execution_count": null,
   "metadata": {},
   "outputs": [],
   "source": [
    "TWITTER_CONSUMER_KEY = 'ObYeIlX5RHysu11OVHqiKaJ1P'\n",
    "TWITTER_CONSUMER_SECRET = 'DN2soGse6Z2YXJ5DxKeEtngNBHpTnFYjT3WhEIUjjbR4VhJVy5'\n",
    "TWITTER_ACCESS_TOKEN = '1252482574988935168-ejszqKqPwYhLpIQQzzl7FIWluvgebr'\n",
    "TWITTER_ACCESS_TOKEN_SECRET = '8xEFcjTqoP9Q74tBUcab0IOJc26K7FM6m2govpyOBuhtO'"
   ]
  },
  {
   "cell_type": "code",
   "execution_count": null,
   "metadata": {},
   "outputs": [],
   "source": [
    "twitter_api = TwitterAPI(\n",
    "    TWITTER_CONSUMER_KEY,\n",
    "    TWITTER_CONSUMER_SECRET,\n",
    "    TWITTER_ACCESS_TOKEN,\n",
    "    TWITTER_ACCESS_TOKEN_SECRET\n",
    ")"
   ]
  },
  {
   "cell_type": "code",
   "execution_count": null,
   "metadata": {},
   "outputs": [],
   "source": [
    "def chunker(iterable, size):\n",
    "    for pos in range(0, len(iterable), size):\n",
    "        yield iterable[pos:pos + size]"
   ]
  },
  {
   "cell_type": "code",
   "execution_count": null,
   "metadata": {},
   "outputs": [],
   "source": [
    "def lookup(tweet_ids):\n",
    "    texts, dates, languages = [], [], []\n",
    "    for tweet_ids_chunk in chunker(tweet_ids, 100):\n",
    "        sleep = 1\n",
    "        while True:\n",
    "            try:\n",
    "                ids = \",\".join([str(ID) for ID in tweet_ids_chunk])\n",
    "                r = twitter_api.request('statuses/lookup', {\n",
    "                    'id': ids,\n",
    "                    'tweet_mode': 'extended'\n",
    "                })\n",
    "                tweets = r.json()\n",
    "                break\n",
    "            except (\n",
    "                TwitterError.TwitterConnectionError,\n",
    "                requests.exceptions.ConnectionError\n",
    "            ):\n",
    "                sleep *= 2\n",
    "            except simplejson.errors.JSONDecodeError:\n",
    "                sleep *= 2\n",
    "            sleep = min(sleep, 5 * 60)\n",
    "            print(f'Connection error: sleeping for {sleep} seconds')\n",
    "            time.sleep(sleep)\n",
    "        tweets = {\n",
    "            int(tweet['id_str']): tweet for tweet in tweets\n",
    "        }\n",
    "        for ID in tweet_ids_chunk:\n",
    "            if ID in tweets:\n",
    "                date = tweets[ID]['created_at']\n",
    "                text = tweets[ID]['full_text']\n",
    "                language = tweets[ID]['lang']\n",
    "                if language == 'in':\n",
    "                    language = 'id'\n",
    "            else:\n",
    "                date = 'NaN'\n",
    "                text = 'NaN'\n",
    "                language = 'NaN'\n",
    "            texts.append(text)\n",
    "            dates.append(date)\n",
    "            languages.append(language)\n",
    "    return texts, dates, languages"
   ]
  },
  {
   "cell_type": "code",
   "execution_count": null,
   "metadata": {},
   "outputs": [],
   "source": [
    "if __name__ == '__main__':\n",
    "    df = pd.read_excel('input/labeled_tweets.xlsx')\n",
    "    ids = [int(ID[2:]) for ID in df['id']]\n",
    "    texts, dates, languages = lookup(ids)\n",
    "    df['text'] = texts\n",
    "    df['date'] = dates\n",
    "    df['language'] = languages\n",
    "    df.to_excel('input/labeled_tweets_hydrated.xlsx', index=False)\n"
   ]
  }
 ],
 "metadata": {
  "kernelspec": {
   "display_name": "Python 3",
   "language": "python",
   "name": "python3"
  },
  "language_info": {
   "codemirror_mode": {
    "name": "ipython",
    "version": 3
   },
   "file_extension": ".py",
   "mimetype": "text/x-python",
   "name": "python",
   "nbconvert_exporter": "python",
   "pygments_lexer": "ipython3",
   "version": "3.8.3"
  }
 },
 "nbformat": 4,
 "nbformat_minor": 4
}
